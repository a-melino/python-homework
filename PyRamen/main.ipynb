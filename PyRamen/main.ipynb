{
 "cells": [
  {
   "cell_type": "code",
   "execution_count": 2,
   "id": "dcc3080d-9ace-4ff1-8b6c-cff0a8f885fc",
   "metadata": {},
   "outputs": [
    {
     "name": "stdout",
     "output_type": "stream",
     "text": [
      "74124 total records in sales data.\n",
      "\n"
     ]
    }
   ],
   "source": [
    "\"\"\"\n",
    "The following program is for the Module 2 Python Assignment (optional portrion).\n",
    "The program deals with reading sales data and menu information from two .csv files and creating a report\n",
    "written to a .txt file which summarizes the data.\n",
    "Programmed by Alex Melino.\n",
    "\"\"\"\n",
    "\n",
    "import os    # Import the os module for getting file paths\n",
    "import csv   # Import the csv module for reading .csv files\n",
    "\n",
    "current_dir = os.getcwd()   # Get current working directory\n",
    "\n",
    "path_menu_data = os.path.join(current_dir, \"menu_data.csv\")   # Get the .csv file path for the menu data\n",
    "path_sales_data = os.path.join(current_dir, \"sales_data.csv\")   # Get the .csv file path for the sales data\n",
    "path_report = os.path.join(current_dir, \"Report.txt\")   # Get the .txt file path for the final report\n",
    "\n",
    "def read_csv_file(file_path):    # funtion to read data from a .csv file and place it into a list\n",
    "    data = []\n",
    "    with open(file_path, 'r') as file:\n",
    "        reader = csv.DictReader(file)\n",
    "        for row in reader:\n",
    "            data.append(dict(row))\n",
    "    return data\n",
    "\n",
    "\n",
    "# calls the funtion for both .csv files\n",
    "menu_data = read_csv_file(path_menu_data)\n",
    "sales_data = read_csv_file(path_sales_data)\n",
    "\n",
    "\n",
    "# initializing variables for report and row count (# of sales)\n",
    "report = {}\n",
    "row_count = 0\n",
    "\n",
    "\n",
    "\"\"\"\n",
    "the following methond uses nested 'for' loops in order to iterate through each line of sales data and menu data.\n",
    "The first if statement populates the dictionary 'record' and the second if statement calculates the desired data.\n",
    "\"\"\"\n",
    "for sale in sales_data:\n",
    "    row_count += 1\n",
    "    quantity = int(sale['Quantity'])\n",
    "    sales_item = sale['Menu_Item']\n",
    "    \n",
    "    if sales_item not in report:\n",
    "        report[sales_item] = {'01-count' : 0, '02-revenue' : 0, '03-cogs' : 0, '04-profit' : 0}\n",
    "        \n",
    "    for line in menu_data:\n",
    "        item = line['item']\n",
    "        price = float(line['price'])\n",
    "        cost = int(line['cost'])\n",
    "        profit = price - cost\n",
    "        \n",
    "        if sales_item == item:\n",
    "            report[sales_item]['01-count'] += quantity\n",
    "            report[sales_item]['02-revenue'] += price * quantity\n",
    "            report[sales_item]['03-cogs'] += cost * quantity\n",
    "            report[sales_item]['04-profit'] += profit * quantity\n",
    "#        else:                                                            \n",
    "#            print(f\"{sales_item} does not equal {item}! No match!\")             \n",
    "\"\"\"the previous two lines of code were asked for but they break JupyterLab, data rate exceeded\"\"\" \n",
    "              \n",
    "    \n",
    "# print total records in the sales data to command line output\n",
    "print(f\"{row_count} total records in sales data.\\n\")\n",
    "\n",
    "\n",
    "# opens the file Report.txt as writeable, and the 'for' loop prints out each element of the 'report' dictionary\n",
    "f = open('Report.txt', 'w')\n",
    "    \n",
    "for r_key, r_values in report.items():\n",
    "    f.writelines(f\"{r_key} {r_values}\\n\")\n",
    "    \n",
    "\n"
   ]
  },
  {
   "cell_type": "code",
   "execution_count": null,
   "id": "b7425b89-1131-42bd-8d16-f6e8d9a8ed92",
   "metadata": {},
   "outputs": [],
   "source": []
  }
 ],
 "metadata": {
  "kernelspec": {
   "display_name": "Python 3 (ipykernel)",
   "language": "python",
   "name": "python3"
  },
  "language_info": {
   "codemirror_mode": {
    "name": "ipython",
    "version": 3
   },
   "file_extension": ".py",
   "mimetype": "text/x-python",
   "name": "python",
   "nbconvert_exporter": "python",
   "pygments_lexer": "ipython3",
   "version": "3.10.9"
  }
 },
 "nbformat": 4,
 "nbformat_minor": 5
}
