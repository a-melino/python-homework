{
 "cells": [
  {
   "cell_type": "code",
   "execution_count": 66,
   "id": "5f61dda3-6646-429c-8fea-9685c8e2d510",
   "metadata": {},
   "outputs": [
    {
     "name": "stdout",
     "output_type": "stream",
     "text": [
      "\n",
      "Financial Analysis \n",
      "----------------------------\n",
      "Total Months: 86\n",
      "Total: $38382578\n",
      "Average Change: $-2315.12\n",
      "Greatest Increase in Profits: Feb-2012 ($1926159)\n",
      "Greatest Decrease in Profits: Sep-2013 ($-2196167)\n"
     ]
    }
   ],
   "source": [
    "import os\n",
    "import csv\n",
    "\n",
    "current_dir = os.getcwd()\n",
    "#print(current_dir)\n",
    "\n",
    "path_budget_data = os.path.join(current_dir, \"budget_data.csv\")\n",
    "#print(path_budget_data)\n",
    "\n",
    "def read_csv_file(file_path):\n",
    "    data = []\n",
    "    month_count = 0\n",
    "    with open(file_path, 'r') as file:\n",
    "        reader = csv.DictReader(file)\n",
    "        for row in reader:\n",
    "            data.append(dict(row))\n",
    "            month_count += 1\n",
    "    return data\n",
    "\n",
    "data = read_csv_file(path_budget_data)\n",
    "\n",
    "month_count = len(data)\n",
    "\n",
    "profit_sum = 0\n",
    "profit_loss_list = []\n",
    "for entry in data:\n",
    "    current_profit = int(entry['Profit/Losses'])\n",
    "    profit_loss_list.append(entry['Profit/Losses'])\n",
    "    profit_sum += current_profit\n",
    "    \n",
    "\n",
    "def get_changes(num):\n",
    "    changes = []\n",
    "    for i in range(1,len(num)):\n",
    "        current_number = int(num[i])\n",
    "        previous_number = int(num[i-1])\n",
    "        change = current_number - previous_number\n",
    "        changes.append(change)\n",
    "    return changes\n",
    "\n",
    "changes = get_changes(profit_loss_list)\n",
    "\n",
    "\n",
    "average_change = round(sum(changes)/len(changes),2)\n",
    "\n",
    "max_change = max(changes)\n",
    "max_month = data[changes.index(max(changes))+1]['Date']\n",
    "min_change = min(changes)\n",
    "min_month = data[changes.index(min(changes))+1]['Date']\n",
    "\n",
    "\n",
    "print(f\"\\nFinancial Analysis \\n{'-'*28}\")\n",
    "print(f\"Total Months: {month_count}\")\n",
    "print(f\"Total: ${profit_sum}\")\n",
    "print(f\"Average Change: ${average_change}\")\n",
    "print(f\"Greatest Increase in Profits: {max_month} (${max_change})\")\n",
    "print(f\"Greatest Decrease in Profits: {min_month} (${min_change})\")"
   ]
  },
  {
   "cell_type": "code",
   "execution_count": null,
   "id": "f1a6ae83",
   "metadata": {},
   "outputs": [],
   "source": []
  }
 ],
 "metadata": {
  "kernelspec": {
   "display_name": "Python 3 (ipykernel)",
   "language": "python",
   "name": "python3"
  },
  "language_info": {
   "codemirror_mode": {
    "name": "ipython",
    "version": 3
   },
   "file_extension": ".py",
   "mimetype": "text/x-python",
   "name": "python",
   "nbconvert_exporter": "python",
   "pygments_lexer": "ipython3",
   "version": "3.10.9"
  }
 },
 "nbformat": 4,
 "nbformat_minor": 5
}
